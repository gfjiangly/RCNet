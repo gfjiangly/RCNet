{
 "cells": [
  {
   "cell_type": "code",
   "execution_count": 2,
   "metadata": {},
   "outputs": [
    {
     "output_type": "stream",
     "name": "stdout",
     "text": "Fix size testing.\ntraining chunk_sizes: [1]\nThe output will be saved to  /code/CenterNet/src/lib/../../exp/ctdet/angle_opencv\nheads {'hm': 15, 'wh': 2, 'a': 1, 'reg': 2}\nNamespace(K=100, a_method=1, a_weight=1.0, aggr_weight=0.0, agnostic_ex=False, arch='dla_34', aug_ddd=0.5, aug_rot=0, batch_size=1, cat_spec_wh=False, center_thresh=0.1, chunk_sizes=[1], data_dir='/media/data', dataset='dota', debug=3, debug_dir='/code/CenterNet/src/lib/../../exp/ctdet/angle_opencv/debug', debugger_theme='white', demo='', dense_hp=False, dense_wh=False, dep_weight=1, dim_weight=1, down_ratio=4, eval_oracle_dep=False, eval_oracle_hm=False, eval_oracle_hmhp=False, eval_oracle_hp_offset=False, eval_oracle_kps=False, eval_oracle_offset=False, eval_oracle_wh=False, exp_dir='/code/CenterNet/src/lib/../../exp/ctdet', exp_id='angle_opencv', fix_res=True, flip=0.5, flip_test=False, fpn=False, gpus=[0], gpus_str='0', head_conv=256, heads={'hm': 15, 'wh': 2, 'a': 1, 'reg': 2}, hide_data_time=False, hm_hp=True, hm_hp_weight=1, hm_weight=1, hp_weight=1, input_h=512, input_res=512, input_w=512, keep_res=False, kitti_split='3dop', load_model='', lr=0.0005, lr_step=[40, 60], master_batch_size=1, mean=array([[[0.40789655, 0.44719303, 0.47026116]]], dtype=float32), metric='loss', mse_loss=False, nms=False, no_color_aug=False, norm_wh=False, not_cuda_benchmark=False, not_hm_hp=False, not_prefetch_test=False, not_rand_crop=False, not_reg_bbox=False, not_reg_hp_offset=False, not_reg_offset=False, num_classes=15, num_epochs=70, num_fpn=1, num_iters=-1, num_stacks=1, num_workers=0, off_weight=1, ot_gauss=False, output_h=128, output_res=128, output_w=128, pad=31, peak_thresh=0.2, print_iter=0, rect_mask=False, reg_bbox=True, reg_hp_offset=True, reg_loss='l1', reg_offset=True, related_hm=False, replace_a=False, replace_hm=False, replace_o=False, replace_wh=False, resume=False, root_dir='/code/CenterNet/src/lib/../..', rot_weight=1, rotate=1.0, save_all=False, save_dir='/code/CenterNet/src/lib/../../exp/ctdet/angle_opencv', scale=0.4, scores_thresh=0.1, seed=317, shift=0.1, start_a=0, start_wh=0, std=array([[[0.2886383 , 0.27408165, 0.27809834]]], dtype=float32), task='ctdet', test=False, test_scales=[1.0], trainval=False, val_intervals=100, val_result=False, vis_thresh=0.3, warmup=False, warmup_iters=200, weighted=False, wh_weight=0.1)\n9.0.176\n7104\nCreating model...\nSetting up data...\n==> initializing coco 2017 val data.\nloading annotations into memory...\nDone (t=0.23s)\ncreating index...\nindex created!\nLoaded val 10 samples\n==> initializing coco 2017 train data.\nloading annotations into memory...\nDone (t=0.92s)\ncreating index...\nindex created!\nLoaded train 10 samples\nStarting training...\n\u001b[Kctdet/angle_opencv |###                             | train: [1][0/10]|Tot: 0:00:03 |ETA: 0:00:00 |loss 31.1188 |hm_loss 29.3941 |wh_loss 2.5320 |off_loss 0.6148 |a_loss 0.8567 |Data 0.104s(0.104s) |Net 3.394sTraceback (most recent call last):\n  File \"main.py\", line 138, in <module>\n    main(opt)\n  File \"main.py\", line 105, in main\n    log_dict_train, _ = trainer.train(epoch, train_loader)\n  File \"/code/CenterNet/src/lib/trains/base_trainer.py\", line 147, in train\n    return self.run_epoch('train', epoch, data_loader)\n  File \"/code/CenterNet/src/lib/trains/base_trainer.py\", line 123, in run_epoch\n    self.debug(batch, output, iter_id)\n  File \"/code/CenterNet/src/lib/trains/ctdet.py\", line 190, in debug\n    dets_gt = batch['meta']['gt_det'].numpy().reshape(1, -1, dets.shape[2])\nTypeError: list indices must be integers or slices, not str\n"
    }
   ],
   "source": [
    "!python main.py ctdet --exp_id angle_opencv --dataset dota --batch_size 16 --lr 5e-4 --a_method 1 --rotate 1 --val_intervals 100 --debug=3"
   ]
  }
 ],
 "metadata": {
  "language_info": {
   "codemirror_mode": {
    "name": "ipython",
    "version": 3
   },
   "file_extension": ".py",
   "mimetype": "text/x-python",
   "name": "python",
   "nbconvert_exporter": "python",
   "pygments_lexer": "ipython3",
   "version": "3.6.8-final"
  },
  "orig_nbformat": 2,
  "kernelspec": {
   "name": "python3",
   "display_name": "Python 3"
  }
 },
 "nbformat": 4,
 "nbformat_minor": 2
}